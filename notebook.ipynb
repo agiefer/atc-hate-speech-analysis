{
 "cells": [
  {
   "cell_type": "markdown",
   "metadata": {},
   "source": [
    "# Investigating ATC's Hate Speech Dataset"
   ]
  },
  {
   "cell_type": "code",
   "execution_count": 60,
   "metadata": {},
   "outputs": [],
   "source": [
    "# Helper"
   ]
  },
  {
   "cell_type": "markdown",
   "metadata": {},
   "source": [
    "# Connect to DB"
   ]
  },
  {
   "cell_type": "code",
   "execution_count": 14,
   "metadata": {},
   "outputs": [],
   "source": [
    "import pandas as pd\n",
    "import sqlite3\n",
    "\n",
    "con = sqlite3.connect(\"atc-analysis.db\")\n",
    "cur = con.cursor()\n"
   ]
  },
  {
   "cell_type": "markdown",
   "metadata": {},
   "source": [
    "# Helper"
   ]
  },
  {
   "cell_type": "code",
   "execution_count": null,
   "metadata": {},
   "outputs": [],
   "source": [
    "def countPosts(cur, attribute, minScore, maxScore):\n",
    "    query = f\"SELECT COUNT(*) FROM Analysis WHERE {attribute} > ? AND {attribute} <= ?\"\n",
    "    result = cur.execute(query, (minScore, maxScore)).fetchone()\n",
    "\n",
    "    return result[0]\n",
    "\n"
   ]
  },
  {
   "cell_type": "markdown",
   "metadata": {},
   "source": [
    "# Bargraph by score Interval"
   ]
  },
  {
   "cell_type": "code",
   "execution_count": null,
   "metadata": {},
   "outputs": [],
   "source": [
    "\n",
    "delta = 0.01\n",
    "numberOfIntervals = 10\n",
    "startScore = 0.90\n",
    "    \n",
    "attributes = [\"racism\", \"religious\", \"sexism\", \"sexualOrientation\", \"nonHateful\"]\n",
    "language = \"de\"\n",
    "\n",
    "data = []\n",
    "\n",
    "for index in range(0, numberOfIntervals):\n",
    "    minScore = round(100*(startScore + index*delta))/100.0\n",
    "    maxScore = round(100*(minScore + delta))/100.0\n",
    "\n",
    "    dataRow = [minScore, maxScore]\n",
    "\n",
    "    for attribute in attributes:\n",
    "\n",
    "        numberOfPosts = countPosts(cur=cur, attribute=attribute, minScore=minScore, maxScore=maxScore)\n",
    "        dataRow.append(numberOfPosts)\n",
    "        print(f\"{attribute},{minScore:.3f}, {maxScore:.3f}, {numberOfPosts}\" )\n",
    "\n",
    "    data.append(dataRow)\n",
    "\n",
    "columnNames = ['minScore', 'maxScore']\n",
    "columnNames.extend(attributes)\n",
    "df = pd.DataFrame(data, columns=columnNames)\n",
    "print(df.head((100)))"
   ]
  },
  {
   "cell_type": "code",
   "execution_count": 59,
   "metadata": {},
   "outputs": [
    {
     "data": {
      "image/png": "[encoded data removed]",
      "text/plain": [
       "<Figure size 640x480 with 1 Axes>"
      ]
     },
     "metadata": {},
     "output_type": "display_data"
    }
   ],
   "source": [
    "import matplotlib\n",
    "ax = df.plot.bar(rot=0, x='minScore', y=[\"racism\", \"religious\", \"sexism\", \"sexualOrientation\"])"
   ]
  },
  {
   "cell_type": "markdown",
   "metadata": {},
   "source": [
    "# Cummulative graph"
   ]
  },
  {
   "cell_type": "code",
   "execution_count": null,
   "metadata": {},
   "outputs": [
    {
     "ename": "ProgrammingError",
     "evalue": "Incorrect number of bindings supplied. The current statement uses 1, and there are 2 supplied.",
     "output_type": "error",
     "traceback": [
      "\u001b[31m---------------------------------------------------------------------------\u001b[39m",
      "\u001b[31mProgrammingError\u001b[39m                          Traceback (most recent call last)",
      "\u001b[36mCell\u001b[39m\u001b[36m \u001b[39m\u001b[32mIn[68]\u001b[39m\u001b[32m, line 24\u001b[39m\n\u001b[32m     20\u001b[39m dataRow = [minScore]\n\u001b[32m     22\u001b[39m \u001b[38;5;28;01mfor\u001b[39;00m attribute \u001b[38;5;129;01min\u001b[39;00m attributes:\n\u001b[32m---> \u001b[39m\u001b[32m24\u001b[39m     numberOfPosts = \u001b[43mcountPostsWithMinScore\u001b[49m\u001b[43m(\u001b[49m\u001b[43mcur\u001b[49m\u001b[43m=\u001b[49m\u001b[43mcur\u001b[49m\u001b[43m,\u001b[49m\u001b[43m \u001b[49m\u001b[43mattribute\u001b[49m\u001b[43m=\u001b[49m\u001b[43mattribute\u001b[49m\u001b[43m,\u001b[49m\u001b[43m \u001b[49m\u001b[43mminScore\u001b[49m\u001b[43m=\u001b[49m\u001b[43mminScore\u001b[49m\u001b[43m,\u001b[49m\u001b[43m \u001b[49m\u001b[43mlanguage\u001b[49m\u001b[43m=\u001b[49m\u001b[43mlanguage\u001b[49m\u001b[43m)\u001b[49m\n\u001b[32m     25\u001b[39m     dataRow.append(numberOfPosts)\n\u001b[32m     26\u001b[39m     \u001b[38;5;28mprint\u001b[39m(\u001b[33mf\u001b[39m\u001b[33m\"\u001b[39m\u001b[38;5;132;01m{\u001b[39;00mattribute\u001b[38;5;132;01m}\u001b[39;00m\u001b[33m,\u001b[39m\u001b[38;5;132;01m{\u001b[39;00mminScore\u001b[38;5;132;01m:\u001b[39;00m\u001b[33m.3f\u001b[39m\u001b[38;5;132;01m}\u001b[39;00m\u001b[33m, \u001b[39m\u001b[38;5;132;01m{\u001b[39;00mnumberOfPosts\u001b[38;5;132;01m}\u001b[39;00m\u001b[33m\"\u001b[39m )\n",
      "\u001b[36mCell\u001b[39m\u001b[36m \u001b[39m\u001b[32mIn[68]\u001b[39m\u001b[32m, line 3\u001b[39m, in \u001b[36mcountPostsWithMinScore\u001b[39m\u001b[34m(cur, attribute, minScore, language)\u001b[39m\n\u001b[32m      1\u001b[39m \u001b[38;5;28;01mdef\u001b[39;00m\u001b[38;5;250m \u001b[39m\u001b[34mcountPostsWithMinScore\u001b[39m(cur, attribute, minScore, language):\n\u001b[32m      2\u001b[39m     query = \u001b[33mf\u001b[39m\u001b[33m\"\u001b[39m\u001b[33mSELECT COUNT(*) FROM Analysis WHERE \u001b[39m\u001b[38;5;132;01m{\u001b[39;00mattribute\u001b[38;5;132;01m}\u001b[39;00m\u001b[33m >= ? AND language LIKE \u001b[39m\u001b[33m'\u001b[39m\u001b[33m%?%\u001b[39m\u001b[33m'\u001b[39m\u001b[33m\"\u001b[39m\n\u001b[32m----> \u001b[39m\u001b[32m3\u001b[39m     result = \u001b[43mcur\u001b[49m\u001b[43m.\u001b[49m\u001b[43mexecute\u001b[49m\u001b[43m(\u001b[49m\u001b[43mquery\u001b[49m\u001b[43m,\u001b[49m\u001b[43m \u001b[49m\u001b[43m(\u001b[49m\u001b[43mminScore\u001b[49m\u001b[43m,\u001b[49m\u001b[43m \u001b[49m\u001b[43mlanguage\u001b[49m\u001b[43m)\u001b[49m\u001b[43m)\u001b[49m.fetchone()\n\u001b[32m      5\u001b[39m     \u001b[38;5;28;01mreturn\u001b[39;00m result[\u001b[32m0\u001b[39m]\n",
      "\u001b[31mProgrammingError\u001b[39m: Incorrect number of bindings supplied. The current statement uses 1, and there are 2 supplied."
     ]
    }
   ],
   "source": [
    "def countPostsWithMinScore(cur, attribute, minScore, language):\n",
    "    query = f\"SELECT COUNT(*) FROM Analysis WHERE {attribute} >= ? AND language LIKE '%{language}%'\"\n",
    "    result = cur.execute(query, (minScore, language)).fetchone()\n",
    "\n",
    "    return result[0]\n",
    "\n",
    "startScore = 0.90\n",
    "numberOfSteps = 100\n",
    "    \n",
    "attributes = [\"racism\", \"religious\", \"sexism\", \"sexualOrientation\", \"nonHateful\"]\n",
    "language = \"de\"\n",
    "\n",
    "delta = (1.0-startScore)/numberOfSteps\n",
    "\n",
    "data = []\n",
    "\n",
    "for index in range(0, numberOfSteps+1):\n",
    "    minScore = round(100*(startScore + index*delta))/100.0\n",
    "\n",
    "    dataRow = [minScore]\n",
    "\n",
    "    for attribute in attributes:\n",
    "\n",
    "        numberOfPosts = countPostsWithMinScore(cur=cur, attribute=attribute, minScore=minScore, language=language)\n",
    "        dataRow.append(numberOfPosts)\n",
    "        print(f\"{attribute},{minScore:.3f}, {numberOfPosts}\" )\n",
    "\n",
    "    data.append(dataRow)\n",
    "\n",
    "columnNames = ['minScore']\n",
    "columnNames.extend(attributes)\n",
    "df = pd.DataFrame(data, columns=columnNames)\n",
    "print(df.head((100)))"
   ]
  }
 ],
 "metadata": {
  "kernelspec": {
   "display_name": ".venv",
   "language": "python",
   "name": "python3"
  },
  "language_info": {
   "codemirror_mode": {
    "name": "ipython",
    "version": 3
   },
   "file_extension": ".py",
   "mimetype": "text/x-python",
   "name": "python",
   "nbconvert_exporter": "python",
   "pygments_lexer": "ipython3",
   "version": "3.13.1"
  }
 },
 "nbformat": 4,
 "nbformat_minor": 2
}
